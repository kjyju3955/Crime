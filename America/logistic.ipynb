{
 "cells": [
  {
   "cell_type": "code",
   "execution_count": 1,
   "metadata": {},
   "outputs": [],
   "source": [
    "import pandas as pd\n",
    "import statsmodels.api as sm\n",
    "from sklearn.linear_model import LogisticRegression \n",
    "from sklearn.preprocessing import StandardScaler\n",
    "import numpy as np\n",
    "import matplotlib.pyplot as plt\n",
    "import seaborn as sns\n",
    "import scipy.stats as stats\n",
    "from sklearn.metrics import mean_squared_error\n",
    "import math\n",
    "from sklearn.linear_model import LinearRegression\n",
    "from sklearn.preprocessing import minmax_scale\n",
    "from sklearn.preprocessing import robust_scale\n",
    "from sklearn.preprocessing import QuantileTransformer"
   ]
  },
  {
   "cell_type": "code",
   "execution_count": 3,
   "metadata": {},
   "outputs": [
    {
     "data": {
      "text/html": [
       "<div>\n",
       "<style scoped>\n",
       "    .dataframe tbody tr th:only-of-type {\n",
       "        vertical-align: middle;\n",
       "    }\n",
       "\n",
       "    .dataframe tbody tr th {\n",
       "        vertical-align: top;\n",
       "    }\n",
       "\n",
       "    .dataframe thead th {\n",
       "        text-align: right;\n",
       "    }\n",
       "</style>\n",
       "<table border=\"1\" class=\"dataframe\">\n",
       "  <thead>\n",
       "    <tr style=\"text-align: right;\">\n",
       "      <th></th>\n",
       "      <th>State</th>\n",
       "      <th>Felony_sentence_aver</th>\n",
       "      <th>GDP_penalty</th>\n",
       "      <th>Temper</th>\n",
       "      <th>GDP</th>\n",
       "      <th>Education</th>\n",
       "      <th>Happy</th>\n",
       "      <th>PCPI</th>\n",
       "      <th>Police_area</th>\n",
       "      <th>older_rate</th>\n",
       "      <th>MSA_Rate</th>\n",
       "      <th>Female_Rate</th>\n",
       "      <th>Traveler_spending</th>\n",
       "      <th>Misdemeanor_Result</th>\n",
       "      <th>Felony_Result</th>\n",
       "      <th>Gun_ownership</th>\n",
       "    </tr>\n",
       "  </thead>\n",
       "  <tbody>\n",
       "    <tr>\n",
       "      <th>16</th>\n",
       "      <td>Alabama</td>\n",
       "      <td>402.000</td>\n",
       "      <td>72.0450</td>\n",
       "      <td>17.1</td>\n",
       "      <td>228142.6</td>\n",
       "      <td>9717</td>\n",
       "      <td>40.28</td>\n",
       "      <td>44145</td>\n",
       "      <td>0.617114</td>\n",
       "      <td>17.4</td>\n",
       "      <td>75.183294</td>\n",
       "      <td>51.7</td>\n",
       "      <td>11513.8</td>\n",
       "      <td>1209.924</td>\n",
       "      <td>2150.976</td>\n",
       "      <td>50.0</td>\n",
       "    </tr>\n",
       "    <tr>\n",
       "      <th>17</th>\n",
       "      <td>Arizona</td>\n",
       "      <td>246.000</td>\n",
       "      <td>296.0953</td>\n",
       "      <td>15.7</td>\n",
       "      <td>370119.1</td>\n",
       "      <td>8373</td>\n",
       "      <td>53.47</td>\n",
       "      <td>46058</td>\n",
       "      <td>1.640300</td>\n",
       "      <td>18.0</td>\n",
       "      <td>95.153404</td>\n",
       "      <td>50.3</td>\n",
       "      <td>21582.8</td>\n",
       "      <td>2534.560</td>\n",
       "      <td>633.640</td>\n",
       "      <td>37.0</td>\n",
       "    </tr>\n",
       "    <tr>\n",
       "      <th>18</th>\n",
       "      <td>California</td>\n",
       "      <td>333.600</td>\n",
       "      <td>3132.8006</td>\n",
       "      <td>15.2</td>\n",
       "      <td>3132800.6</td>\n",
       "      <td>12664</td>\n",
       "      <td>61.14</td>\n",
       "      <td>66619</td>\n",
       "      <td>2.119850</td>\n",
       "      <td>14.8</td>\n",
       "      <td>97.881146</td>\n",
       "      <td>50.3</td>\n",
       "      <td>148446.9</td>\n",
       "      <td>2266.960</td>\n",
       "      <td>566.740</td>\n",
       "      <td>18.0</td>\n",
       "    </tr>\n",
       "    <tr>\n",
       "      <th>19</th>\n",
       "      <td>Connecticut</td>\n",
       "      <td>315.000</td>\n",
       "      <td>307.0103</td>\n",
       "      <td>9.4</td>\n",
       "      <td>287822.2</td>\n",
       "      <td>20147</td>\n",
       "      <td>59.23</td>\n",
       "      <td>77289</td>\n",
       "      <td>0.068367</td>\n",
       "      <td>17.6</td>\n",
       "      <td>94.941978</td>\n",
       "      <td>51.2</td>\n",
       "      <td>12231.5</td>\n",
       "      <td>1515.915</td>\n",
       "      <td>355.585</td>\n",
       "      <td>18.0</td>\n",
       "    </tr>\n",
       "    <tr>\n",
       "      <th>20</th>\n",
       "      <td>Florida</td>\n",
       "      <td>447.000</td>\n",
       "      <td>1475.3335</td>\n",
       "      <td>21.5</td>\n",
       "      <td>1106500.1</td>\n",
       "      <td>9663</td>\n",
       "      <td>50.58</td>\n",
       "      <td>52426</td>\n",
       "      <td>0.810971</td>\n",
       "      <td>20.9</td>\n",
       "      <td>96.784140</td>\n",
       "      <td>51.1</td>\n",
       "      <td>102843.7</td>\n",
       "      <td>2005.275</td>\n",
       "      <td>668.425</td>\n",
       "      <td>29.0</td>\n",
       "    </tr>\n",
       "    <tr>\n",
       "      <th>21</th>\n",
       "      <td>Idaho</td>\n",
       "      <td>936.000</td>\n",
       "      <td>83.6655</td>\n",
       "      <td>6.9</td>\n",
       "      <td>83665.5</td>\n",
       "      <td>7846</td>\n",
       "      <td>59.58</td>\n",
       "      <td>45968</td>\n",
       "      <td>1.352788</td>\n",
       "      <td>16.2</td>\n",
       "      <td>74.284112</td>\n",
       "      <td>49.9</td>\n",
       "      <td>5656.0</td>\n",
       "      <td>1337.544</td>\n",
       "      <td>377.256</td>\n",
       "      <td>53.0</td>\n",
       "    </tr>\n",
       "    <tr>\n",
       "      <th>22</th>\n",
       "      <td>Illinois</td>\n",
       "      <td>240.000</td>\n",
       "      <td>483.0453</td>\n",
       "      <td>11.0</td>\n",
       "      <td>885583.0</td>\n",
       "      <td>15912</td>\n",
       "      <td>50.14</td>\n",
       "      <td>58764</td>\n",
       "      <td>0.714276</td>\n",
       "      <td>16.1</td>\n",
       "      <td>88.753778</td>\n",
       "      <td>50.9</td>\n",
       "      <td>41750.0</td>\n",
       "      <td>1668.642</td>\n",
       "      <td>681.558</td>\n",
       "      <td>24.0</td>\n",
       "    </tr>\n",
       "    <tr>\n",
       "      <th>23</th>\n",
       "      <td>Iowa</td>\n",
       "      <td>417.000</td>\n",
       "      <td>66.7399</td>\n",
       "      <td>8.8</td>\n",
       "      <td>194658.1</td>\n",
       "      <td>11724</td>\n",
       "      <td>59.65</td>\n",
       "      <td>51865</td>\n",
       "      <td>0.971620</td>\n",
       "      <td>17.5</td>\n",
       "      <td>61.267325</td>\n",
       "      <td>50.2</td>\n",
       "      <td>9210.9</td>\n",
       "      <td>1722.084</td>\n",
       "      <td>352.716</td>\n",
       "      <td>38.0</td>\n",
       "    </tr>\n",
       "    <tr>\n",
       "      <th>24</th>\n",
       "      <td>Kansas</td>\n",
       "      <td>396.750</td>\n",
       "      <td>132.3698</td>\n",
       "      <td>12.4</td>\n",
       "      <td>176493.1</td>\n",
       "      <td>11095</td>\n",
       "      <td>49.16</td>\n",
       "      <td>53426</td>\n",
       "      <td>0.968618</td>\n",
       "      <td>16.4</td>\n",
       "      <td>69.537956</td>\n",
       "      <td>50.2</td>\n",
       "      <td>8133.0</td>\n",
       "      <td>1582.020</td>\n",
       "      <td>1519.980</td>\n",
       "      <td>43.0</td>\n",
       "    </tr>\n",
       "    <tr>\n",
       "      <th>25</th>\n",
       "      <td>Kentucky</td>\n",
       "      <td>402.000</td>\n",
       "      <td>574.3971</td>\n",
       "      <td>13.1</td>\n",
       "      <td>215398.9</td>\n",
       "      <td>11081</td>\n",
       "      <td>38.29</td>\n",
       "      <td>43770</td>\n",
       "      <td>0.615641</td>\n",
       "      <td>16.9</td>\n",
       "      <td>58.511802</td>\n",
       "      <td>50.7</td>\n",
       "      <td>10211.7</td>\n",
       "      <td>1508.376</td>\n",
       "      <td>709.824</td>\n",
       "      <td>49.0</td>\n",
       "    </tr>\n",
       "    <tr>\n",
       "      <th>26</th>\n",
       "      <td>Maine</td>\n",
       "      <td>180.000</td>\n",
       "      <td>45.1447</td>\n",
       "      <td>5.0</td>\n",
       "      <td>67717.1</td>\n",
       "      <td>15069</td>\n",
       "      <td>50.12</td>\n",
       "      <td>50634</td>\n",
       "      <td>0.539094</td>\n",
       "      <td>21.3</td>\n",
       "      <td>59.434449</td>\n",
       "      <td>51.0</td>\n",
       "      <td>4517.1</td>\n",
       "      <td>1265.232</td>\n",
       "      <td>205.968</td>\n",
       "      <td>45.0</td>\n",
       "    </tr>\n",
       "    <tr>\n",
       "      <th>27</th>\n",
       "      <td>Maryland</td>\n",
       "      <td>729.000</td>\n",
       "      <td>155.1809</td>\n",
       "      <td>12.3</td>\n",
       "      <td>426747.4</td>\n",
       "      <td>15155</td>\n",
       "      <td>61.78</td>\n",
       "      <td>64640</td>\n",
       "      <td>0.119011</td>\n",
       "      <td>15.9</td>\n",
       "      <td>97.503143</td>\n",
       "      <td>51.6</td>\n",
       "      <td>18220.7</td>\n",
       "      <td>1954.914</td>\n",
       "      <td>551.386</td>\n",
       "      <td>21.0</td>\n",
       "    </tr>\n",
       "    <tr>\n",
       "      <th>28</th>\n",
       "      <td>Massachusetts</td>\n",
       "      <td>906.000</td>\n",
       "      <td>116.9790</td>\n",
       "      <td>8.8</td>\n",
       "      <td>596593.1</td>\n",
       "      <td>18328</td>\n",
       "      <td>57.30</td>\n",
       "      <td>74187</td>\n",
       "      <td>0.113900</td>\n",
       "      <td>17.0</td>\n",
       "      <td>91.382695</td>\n",
       "      <td>51.5</td>\n",
       "      <td>24156.5</td>\n",
       "      <td>1226.564</td>\n",
       "      <td>387.336</td>\n",
       "      <td>10.0</td>\n",
       "    </tr>\n",
       "    <tr>\n",
       "      <th>29</th>\n",
       "      <td>Michigan</td>\n",
       "      <td>265.714</td>\n",
       "      <td>1073.7766</td>\n",
       "      <td>6.9</td>\n",
       "      <td>536888.3</td>\n",
       "      <td>11688</td>\n",
       "      <td>47.27</td>\n",
       "      <td>49228</td>\n",
       "      <td>1.473494</td>\n",
       "      <td>17.7</td>\n",
       "      <td>81.953852</td>\n",
       "      <td>50.7</td>\n",
       "      <td>23323.7</td>\n",
       "      <td>1693.600</td>\n",
       "      <td>423.400</td>\n",
       "      <td>35.0</td>\n",
       "    </tr>\n",
       "    <tr>\n",
       "      <th>30</th>\n",
       "      <td>Minnesota</td>\n",
       "      <td>507.000</td>\n",
       "      <td>191.8885</td>\n",
       "      <td>5.1</td>\n",
       "      <td>383777.0</td>\n",
       "      <td>12910</td>\n",
       "      <td>65.87</td>\n",
       "      <td>58834</td>\n",
       "      <td>1.324535</td>\n",
       "      <td>16.3</td>\n",
       "      <td>77.880649</td>\n",
       "      <td>50.2</td>\n",
       "      <td>15421.0</td>\n",
       "      <td>1644.502</td>\n",
       "      <td>577.798</td>\n",
       "      <td>39.0</td>\n",
       "    </tr>\n",
       "    <tr>\n",
       "      <th>31</th>\n",
       "      <td>Missouri</td>\n",
       "      <td>158.400</td>\n",
       "      <td>266.2708</td>\n",
       "      <td>12.5</td>\n",
       "      <td>328400.6</td>\n",
       "      <td>11034</td>\n",
       "      <td>45.79</td>\n",
       "      <td>48656</td>\n",
       "      <td>0.785013</td>\n",
       "      <td>17.2</td>\n",
       "      <td>74.996790</td>\n",
       "      <td>50.9</td>\n",
       "      <td>15230.3</td>\n",
       "      <td>1453.232</td>\n",
       "      <td>1705.968</td>\n",
       "      <td>48.0</td>\n",
       "    </tr>\n",
       "    <tr>\n",
       "      <th>32</th>\n",
       "      <td>Nebraska</td>\n",
       "      <td>530.667</td>\n",
       "      <td>216.6863</td>\n",
       "      <td>9.3</td>\n",
       "      <td>130011.8</td>\n",
       "      <td>12813</td>\n",
       "      <td>59.06</td>\n",
       "      <td>54515</td>\n",
       "      <td>1.054447</td>\n",
       "      <td>16.1</td>\n",
       "      <td>65.377469</td>\n",
       "      <td>50.0</td>\n",
       "      <td>5493.1</td>\n",
       "      <td>1640.268</td>\n",
       "      <td>736.932</td>\n",
       "      <td>39.0</td>\n",
       "    </tr>\n",
       "    <tr>\n",
       "      <th>33</th>\n",
       "      <td>Nevada</td>\n",
       "      <td>316.800</td>\n",
       "      <td>118.7996</td>\n",
       "      <td>9.9</td>\n",
       "      <td>178199.4</td>\n",
       "      <td>9040</td>\n",
       "      <td>53.67</td>\n",
       "      <td>51161</td>\n",
       "      <td>1.363576</td>\n",
       "      <td>16.2</td>\n",
       "      <td>90.848418</td>\n",
       "      <td>49.8</td>\n",
       "      <td>42496.0</td>\n",
       "      <td>1947.660</td>\n",
       "      <td>1048.740</td>\n",
       "      <td>36.0</td>\n",
       "    </tr>\n",
       "    <tr>\n",
       "      <th>34</th>\n",
       "      <td>New Hampshire</td>\n",
       "      <td>132.000</td>\n",
       "      <td>54.7713</td>\n",
       "      <td>6.6</td>\n",
       "      <td>87634.1</td>\n",
       "      <td>16588</td>\n",
       "      <td>53.36</td>\n",
       "      <td>63502</td>\n",
       "      <td>0.115314</td>\n",
       "      <td>18.6</td>\n",
       "      <td>63.059503</td>\n",
       "      <td>50.4</td>\n",
       "      <td>4350.4</td>\n",
       "      <td>1057.405</td>\n",
       "      <td>391.095</td>\n",
       "      <td>39.0</td>\n",
       "    </tr>\n",
       "    <tr>\n",
       "      <th>35</th>\n",
       "      <td>New Jersey</td>\n",
       "      <td>325.200</td>\n",
       "      <td>846.3781</td>\n",
       "      <td>11.5</td>\n",
       "      <td>634783.6</td>\n",
       "      <td>20316</td>\n",
       "      <td>64.10</td>\n",
       "      <td>70471</td>\n",
       "      <td>0.064537</td>\n",
       "      <td>16.6</td>\n",
       "      <td>100.000000</td>\n",
       "      <td>51.1</td>\n",
       "      <td>34055.2</td>\n",
       "      <td>1115.730</td>\n",
       "      <td>501.270</td>\n",
       "      <td>8.0</td>\n",
       "    </tr>\n",
       "    <tr>\n",
       "      <th>36</th>\n",
       "      <td>New York</td>\n",
       "      <td>168.800</td>\n",
       "      <td>2363.0143</td>\n",
       "      <td>7.4</td>\n",
       "      <td>1772260.7</td>\n",
       "      <td>23686</td>\n",
       "      <td>54.86</td>\n",
       "      <td>71717</td>\n",
       "      <td>0.487238</td>\n",
       "      <td>16.9</td>\n",
       "      <td>93.042968</td>\n",
       "      <td>51.4</td>\n",
       "      <td>83045.2</td>\n",
       "      <td>1281.846</td>\n",
       "      <td>519.796</td>\n",
       "      <td>14.0</td>\n",
       "    </tr>\n",
       "    <tr>\n",
       "      <th>37</th>\n",
       "      <td>North Carolina</td>\n",
       "      <td>221.900</td>\n",
       "      <td>986.0015</td>\n",
       "      <td>15.0</td>\n",
       "      <td>591600.9</td>\n",
       "      <td>9277</td>\n",
       "      <td>49.19</td>\n",
       "      <td>47766</td>\n",
       "      <td>0.606039</td>\n",
       "      <td>16.7</td>\n",
       "      <td>79.258871</td>\n",
       "      <td>51.4</td>\n",
       "      <td>26259.9</td>\n",
       "      <td>2214.000</td>\n",
       "      <td>486.000</td>\n",
       "      <td>35.0</td>\n",
       "    </tr>\n",
       "    <tr>\n",
       "      <th>38</th>\n",
       "      <td>Ohio</td>\n",
       "      <td>58.800</td>\n",
       "      <td>1312.0030</td>\n",
       "      <td>10.4</td>\n",
       "      <td>695361.6</td>\n",
       "      <td>12893</td>\n",
       "      <td>48.37</td>\n",
       "      <td>50199</td>\n",
       "      <td>0.893046</td>\n",
       "      <td>17.5</td>\n",
       "      <td>80.716067</td>\n",
       "      <td>51.0</td>\n",
       "      <td>31604.9</td>\n",
       "      <td>1927.387</td>\n",
       "      <td>575.713</td>\n",
       "      <td>36.0</td>\n",
       "    </tr>\n",
       "    <tr>\n",
       "      <th>39</th>\n",
       "      <td>Pennsylvania</td>\n",
       "      <td>550.000</td>\n",
       "      <td>138.6407</td>\n",
       "      <td>9.3</td>\n",
       "      <td>808737.5</td>\n",
       "      <td>16377</td>\n",
       "      <td>50.16</td>\n",
       "      <td>58032</td>\n",
       "      <td>0.627805</td>\n",
       "      <td>18.7</td>\n",
       "      <td>88.697913</td>\n",
       "      <td>51.0</td>\n",
       "      <td>37494.1</td>\n",
       "      <td>1130.598</td>\n",
       "      <td>664.002</td>\n",
       "      <td>37.0</td>\n",
       "    </tr>\n",
       "    <tr>\n",
       "      <th>40</th>\n",
       "      <td>Rhode Island</td>\n",
       "      <td>417.000</td>\n",
       "      <td>82.5117</td>\n",
       "      <td>10.1</td>\n",
       "      <td>61883.8</td>\n",
       "      <td>16954</td>\n",
       "      <td>50.96</td>\n",
       "      <td>56361</td>\n",
       "      <td>0.017400</td>\n",
       "      <td>17.7</td>\n",
       "      <td>100.000000</td>\n",
       "      <td>51.3</td>\n",
       "      <td>2289.4</td>\n",
       "      <td>1074.564</td>\n",
       "      <td>810.636</td>\n",
       "      <td>11.0</td>\n",
       "    </tr>\n",
       "    <tr>\n",
       "      <th>41</th>\n",
       "      <td>Texas</td>\n",
       "      <td>684.000</td>\n",
       "      <td>850.9859</td>\n",
       "      <td>18.2</td>\n",
       "      <td>1843802.7</td>\n",
       "      <td>9670</td>\n",
       "      <td>51.04</td>\n",
       "      <td>52813</td>\n",
       "      <td>4.347631</td>\n",
       "      <td>12.9</td>\n",
       "      <td>97.632905</td>\n",
       "      <td>50.3</td>\n",
       "      <td>76402.6</td>\n",
       "      <td>2345.364</td>\n",
       "      <td>446.736</td>\n",
       "      <td>37.0</td>\n",
       "    </tr>\n",
       "    <tr>\n",
       "      <th>42</th>\n",
       "      <td>Utah</td>\n",
       "      <td>372.000</td>\n",
       "      <td>135.8959</td>\n",
       "      <td>9.2</td>\n",
       "      <td>192519.2</td>\n",
       "      <td>7576</td>\n",
       "      <td>69.42</td>\n",
       "      <td>48939</td>\n",
       "      <td>1.465913</td>\n",
       "      <td>11.4</td>\n",
       "      <td>89.541317</td>\n",
       "      <td>49.6</td>\n",
       "      <td>9745.3</td>\n",
       "      <td>2100.373</td>\n",
       "      <td>558.327</td>\n",
       "      <td>39.0</td>\n",
       "    </tr>\n",
       "    <tr>\n",
       "      <th>43</th>\n",
       "      <td>Vermont</td>\n",
       "      <td>447.000</td>\n",
       "      <td>29.1543</td>\n",
       "      <td>6.1</td>\n",
       "      <td>34013.4</td>\n",
       "      <td>20149</td>\n",
       "      <td>55.59</td>\n",
       "      <td>55293</td>\n",
       "      <td>0.118576</td>\n",
       "      <td>20.1</td>\n",
       "      <td>35.322898</td>\n",
       "      <td>50.6</td>\n",
       "      <td>2666.3</td>\n",
       "      <td>1185.079</td>\n",
       "      <td>315.021</td>\n",
       "      <td>46.0</td>\n",
       "    </tr>\n",
       "    <tr>\n",
       "      <th>44</th>\n",
       "      <td>Washington</td>\n",
       "      <td>456.000</td>\n",
       "      <td>204.3322</td>\n",
       "      <td>9.1</td>\n",
       "      <td>612996.5</td>\n",
       "      <td>12985</td>\n",
       "      <td>55.60</td>\n",
       "      <td>64758</td>\n",
       "      <td>1.319036</td>\n",
       "      <td>15.9</td>\n",
       "      <td>81.997465</td>\n",
       "      <td>49.9</td>\n",
       "      <td>20268.3</td>\n",
       "      <td>2527.602</td>\n",
       "      <td>754.998</td>\n",
       "      <td>34.0</td>\n",
       "    </tr>\n",
       "    <tr>\n",
       "      <th>45</th>\n",
       "      <td>Wisconsin</td>\n",
       "      <td>361.333</td>\n",
       "      <td>91.1521</td>\n",
       "      <td>6.2</td>\n",
       "      <td>349416.5</td>\n",
       "      <td>12446</td>\n",
       "      <td>54.32</td>\n",
       "      <td>53227</td>\n",
       "      <td>0.807805</td>\n",
       "      <td>17.5</td>\n",
       "      <td>74.676604</td>\n",
       "      <td>50.2</td>\n",
       "      <td>12516.5</td>\n",
       "      <td>1215.565</td>\n",
       "      <td>654.535</td>\n",
       "      <td>43.0</td>\n",
       "    </tr>\n",
       "  </tbody>\n",
       "</table>\n",
       "</div>"
      ],
      "text/plain": [
       "             State  Felony_sentence_aver  GDP_penalty  Temper        GDP  \\\n",
       "16         Alabama               402.000      72.0450    17.1   228142.6   \n",
       "17         Arizona               246.000     296.0953    15.7   370119.1   \n",
       "18      California               333.600    3132.8006    15.2  3132800.6   \n",
       "19     Connecticut               315.000     307.0103     9.4   287822.2   \n",
       "20         Florida               447.000    1475.3335    21.5  1106500.1   \n",
       "21           Idaho               936.000      83.6655     6.9    83665.5   \n",
       "22        Illinois               240.000     483.0453    11.0   885583.0   \n",
       "23            Iowa               417.000      66.7399     8.8   194658.1   \n",
       "24          Kansas               396.750     132.3698    12.4   176493.1   \n",
       "25        Kentucky               402.000     574.3971    13.1   215398.9   \n",
       "26           Maine               180.000      45.1447     5.0    67717.1   \n",
       "27        Maryland               729.000     155.1809    12.3   426747.4   \n",
       "28   Massachusetts               906.000     116.9790     8.8   596593.1   \n",
       "29        Michigan               265.714    1073.7766     6.9   536888.3   \n",
       "30       Minnesota               507.000     191.8885     5.1   383777.0   \n",
       "31        Missouri               158.400     266.2708    12.5   328400.6   \n",
       "32        Nebraska               530.667     216.6863     9.3   130011.8   \n",
       "33          Nevada               316.800     118.7996     9.9   178199.4   \n",
       "34   New Hampshire               132.000      54.7713     6.6    87634.1   \n",
       "35      New Jersey               325.200     846.3781    11.5   634783.6   \n",
       "36        New York               168.800    2363.0143     7.4  1772260.7   \n",
       "37  North Carolina               221.900     986.0015    15.0   591600.9   \n",
       "38            Ohio                58.800    1312.0030    10.4   695361.6   \n",
       "39    Pennsylvania               550.000     138.6407     9.3   808737.5   \n",
       "40    Rhode Island               417.000      82.5117    10.1    61883.8   \n",
       "41           Texas               684.000     850.9859    18.2  1843802.7   \n",
       "42            Utah               372.000     135.8959     9.2   192519.2   \n",
       "43         Vermont               447.000      29.1543     6.1    34013.4   \n",
       "44      Washington               456.000     204.3322     9.1   612996.5   \n",
       "45       Wisconsin               361.333      91.1521     6.2   349416.5   \n",
       "\n",
       "    Education  Happy   PCPI  Police_area  older_rate    MSA_Rate  Female_Rate  \\\n",
       "16       9717  40.28  44145     0.617114        17.4   75.183294         51.7   \n",
       "17       8373  53.47  46058     1.640300        18.0   95.153404         50.3   \n",
       "18      12664  61.14  66619     2.119850        14.8   97.881146         50.3   \n",
       "19      20147  59.23  77289     0.068367        17.6   94.941978         51.2   \n",
       "20       9663  50.58  52426     0.810971        20.9   96.784140         51.1   \n",
       "21       7846  59.58  45968     1.352788        16.2   74.284112         49.9   \n",
       "22      15912  50.14  58764     0.714276        16.1   88.753778         50.9   \n",
       "23      11724  59.65  51865     0.971620        17.5   61.267325         50.2   \n",
       "24      11095  49.16  53426     0.968618        16.4   69.537956         50.2   \n",
       "25      11081  38.29  43770     0.615641        16.9   58.511802         50.7   \n",
       "26      15069  50.12  50634     0.539094        21.3   59.434449         51.0   \n",
       "27      15155  61.78  64640     0.119011        15.9   97.503143         51.6   \n",
       "28      18328  57.30  74187     0.113900        17.0   91.382695         51.5   \n",
       "29      11688  47.27  49228     1.473494        17.7   81.953852         50.7   \n",
       "30      12910  65.87  58834     1.324535        16.3   77.880649         50.2   \n",
       "31      11034  45.79  48656     0.785013        17.2   74.996790         50.9   \n",
       "32      12813  59.06  54515     1.054447        16.1   65.377469         50.0   \n",
       "33       9040  53.67  51161     1.363576        16.2   90.848418         49.8   \n",
       "34      16588  53.36  63502     0.115314        18.6   63.059503         50.4   \n",
       "35      20316  64.10  70471     0.064537        16.6  100.000000         51.1   \n",
       "36      23686  54.86  71717     0.487238        16.9   93.042968         51.4   \n",
       "37       9277  49.19  47766     0.606039        16.7   79.258871         51.4   \n",
       "38      12893  48.37  50199     0.893046        17.5   80.716067         51.0   \n",
       "39      16377  50.16  58032     0.627805        18.7   88.697913         51.0   \n",
       "40      16954  50.96  56361     0.017400        17.7  100.000000         51.3   \n",
       "41       9670  51.04  52813     4.347631        12.9   97.632905         50.3   \n",
       "42       7576  69.42  48939     1.465913        11.4   89.541317         49.6   \n",
       "43      20149  55.59  55293     0.118576        20.1   35.322898         50.6   \n",
       "44      12985  55.60  64758     1.319036        15.9   81.997465         49.9   \n",
       "45      12446  54.32  53227     0.807805        17.5   74.676604         50.2   \n",
       "\n",
       "    Traveler_spending  Misdemeanor_Result  Felony_Result  Gun_ownership  \n",
       "16            11513.8            1209.924       2150.976           50.0  \n",
       "17            21582.8            2534.560        633.640           37.0  \n",
       "18           148446.9            2266.960        566.740           18.0  \n",
       "19            12231.5            1515.915        355.585           18.0  \n",
       "20           102843.7            2005.275        668.425           29.0  \n",
       "21             5656.0            1337.544        377.256           53.0  \n",
       "22            41750.0            1668.642        681.558           24.0  \n",
       "23             9210.9            1722.084        352.716           38.0  \n",
       "24             8133.0            1582.020       1519.980           43.0  \n",
       "25            10211.7            1508.376        709.824           49.0  \n",
       "26             4517.1            1265.232        205.968           45.0  \n",
       "27            18220.7            1954.914        551.386           21.0  \n",
       "28            24156.5            1226.564        387.336           10.0  \n",
       "29            23323.7            1693.600        423.400           35.0  \n",
       "30            15421.0            1644.502        577.798           39.0  \n",
       "31            15230.3            1453.232       1705.968           48.0  \n",
       "32             5493.1            1640.268        736.932           39.0  \n",
       "33            42496.0            1947.660       1048.740           36.0  \n",
       "34             4350.4            1057.405        391.095           39.0  \n",
       "35            34055.2            1115.730        501.270            8.0  \n",
       "36            83045.2            1281.846        519.796           14.0  \n",
       "37            26259.9            2214.000        486.000           35.0  \n",
       "38            31604.9            1927.387        575.713           36.0  \n",
       "39            37494.1            1130.598        664.002           37.0  \n",
       "40             2289.4            1074.564        810.636           11.0  \n",
       "41            76402.6            2345.364        446.736           37.0  \n",
       "42             9745.3            2100.373        558.327           39.0  \n",
       "43             2666.3            1185.079        315.021           46.0  \n",
       "44            20268.3            2527.602        754.998           34.0  \n",
       "45            12516.5            1215.565        654.535           43.0  "
      ]
     },
     "execution_count": 3,
     "metadata": {},
     "output_type": "execute_result"
    }
   ],
   "source": [
    "Data=pd.read_csv(\"./data/Test.csv\",encoding='utf-8')\n",
    "Data=Data[Data['A']=='v']\n",
    "Data=Data.filter(['State','Felony_sentence_aver','GDP_penalty','Temper','GDP','Education','Happy','PCPI','Police_area','older_rate','MSA_Rate','Female_Rate','Traveler_spending','Misdemeanor_Result','Felony_Result','Gun_ownership'])\n",
    "Data"
   ]
  },
  {
   "cell_type": "code",
   "execution_count": 4,
   "metadata": {},
   "outputs": [
    {
     "data": {
      "image/png": "[encoded data removed]",
      "text/plain": [
       "<Figure size 1080x720 with 1 Axes>"
      ]
     },
     "metadata": {
      "needs_background": "light"
     },
     "output_type": "display_data"
    }
   ],
   "source": [
    "# 경범죄 데이터에 이상치가 있나 확인하기 위해서 box plot\n",
    "\n",
    "plt.figure(figsize=(15,10))\n",
    "plt.boxplot(Data['Misdemeanor_Result'])\n",
    "plt.show()"
   ]
  },
  {
   "cell_type": "code",
   "execution_count": 5,
   "metadata": {},
   "outputs": [
    {
     "data": {
      "image/png": "[encoded data removed]",
      "text/plain": [
       "<Figure size 1080x720 with 1 Axes>"
      ]
     },
     "metadata": {
      "needs_background": "light"
     },
     "output_type": "display_data"
    }
   ],
   "source": [
    "# 중범죄 데이터에 이상치가 있나 확인하기 위해서 box plot\n",
    "\n",
    "plt.figure(figsize=(15,10))\n",
    "plt.boxplot(Data['Felony_Result'])\n",
    "plt.show()"
   ]
  },
  {
   "cell_type": "code",
   "execution_count": 9,
   "metadata": {},
   "outputs": [],
   "source": [
    "# logit으로 돌리기 위해서 y값을 0~1사이의 값으로 minmaxscaleing\n",
    "\n",
    "mis_Y=minmax_scale(Data['Misdemeanor_Result'], axis=0, copy=True)\n",
    "Data['Test_misdemeanor']=mis_Y\n",
    "fel_Y=minmax_scale(Data['Felony_Result'],axis=0,copy=True)\n",
    "Data['Test_felony']=fel_Y\n",
    "#Data"
   ]
  },
  {
   "cell_type": "code",
   "execution_count": 10,
   "metadata": {},
   "outputs": [
    {
     "name": "stdout",
     "output_type": "stream",
     "text": [
      "Optimization terminated successfully.\n",
      "         Current function value: 0.664135\n",
      "         Iterations 4\n",
      "                           Logit Regression Results                           \n",
      "==============================================================================\n",
      "Dep. Variable:       Test_misdemeanor   No. Observations:                   30\n",
      "Model:                          Logit   Df Residuals:                       29\n",
      "Method:                           MLE   Df Model:                            0\n",
      "Date:                Mon, 08 Nov 2021   Pseudo R-squ.:                -0.03965\n",
      "Time:                        11:22:49   Log-Likelihood:                -19.924\n",
      "converged:                       True   LL-Null:                       -19.164\n",
      "Covariance Type:            nonrobust   LLR p-value:                       nan\n",
      "=================================================================================\n",
      "                    coef    std err          z      P>|z|      [0.025      0.975]\n",
      "---------------------------------------------------------------------------------\n",
      "Gun_ownership    -0.1104      0.108     -1.024      0.306      -0.322       0.101\n",
      "=================================================================================\n"
     ]
    }
   ],
   "source": [
    "model_gun = sm.Logit(Data['Test_misdemeanor'], np.log(Data['Gun_ownership']))\n",
    "result_gun = model_gun.fit()\n",
    "print(result_gun.summary())"
   ]
  },
  {
   "cell_type": "markdown",
   "metadata": {},
   "source": [
    "# GDP"
   ]
  },
  {
   "cell_type": "code",
   "execution_count": 92,
   "metadata": {},
   "outputs": [
    {
     "name": "stdout",
     "output_type": "stream",
     "text": [
      "Optimization terminated successfully.\n",
      "         Current function value: 0.666423\n",
      "         Iterations 4\n",
      "                           Logit Regression Results                           \n",
      "==============================================================================\n",
      "Dep. Variable:       Test_misdemeanor   No. Observations:                   30\n",
      "Model:                          Logit   Df Residuals:                       29\n",
      "Method:                           MLE   Df Model:                            0\n",
      "Date:                Fri, 14 May 2021   Pseudo R-squ.:                -0.04323\n",
      "Time:                        12:12:43   Log-Likelihood:                -19.993\n",
      "converged:                       True   LL-Null:                       -19.164\n",
      "Covariance Type:            nonrobust   LLR p-value:                       nan\n",
      "==============================================================================\n",
      "                 coef    std err          z      P>|z|      [0.025      0.975]\n",
      "------------------------------------------------------------------------------\n",
      "GDP           -0.0287      0.029     -0.988      0.323      -0.086       0.028\n",
      "==============================================================================\n"
     ]
    },
    {
     "data": {
      "image/png": "[encoded data removed]",
      "text/plain": [
       "<Figure size 1080x1080 with 1 Axes>"
      ]
     },
     "metadata": {
      "needs_background": "light"
     },
     "output_type": "display_data"
    }
   ],
   "source": [
    "model_GDP = sm.Logit(Data['Test_misdemeanor'],np.log(Data['GDP']))\n",
    "result_GDP = model_GDP.fit()\n",
    "print(result_GDP.summary())\n",
    "\n",
    "plt.figure(figsize=(15,15))\n",
    "plt.scatter(np.log(Data['GDP']),Data['Test_misdemeanor'])\n",
    "\n",
    "xx = np.linspace(10,15, 100)\n",
    "df_wrole_p = pd.DataFrame({\"GDP\": xx})\n",
    "plt.plot(xx, result_GDP.predict(xx), \"r-\", lw=4, label=\"예측\",alpha=.5)\n",
    "plt.grid(True)\n",
    "plt.xlabel('GDP')\n",
    "plt.ylabel('Misdemeanor_Result')\n",
    "plt.show()"
   ]
  },
  {
   "cell_type": "markdown",
   "metadata": {},
   "source": [
    "# GDP_penalty"
   ]
  },
  {
   "cell_type": "code",
   "execution_count": 98,
   "metadata": {},
   "outputs": [
    {
     "name": "stdout",
     "output_type": "stream",
     "text": [
      "Optimization terminated successfully.\n",
      "         Current function value: 0.676425\n",
      "         Iterations 4\n",
      "                           Logit Regression Results                           \n",
      "==============================================================================\n",
      "Dep. Variable:       Test_misdemeanor   No. Observations:                   30\n",
      "Model:                          Logit   Df Residuals:                       29\n",
      "Method:                           MLE   Df Model:                            0\n",
      "Date:                Fri, 14 May 2021   Pseudo R-squ.:                -0.05889\n",
      "Time:                        12:17:28   Log-Likelihood:                -20.293\n",
      "converged:                       True   LL-Null:                       -19.164\n",
      "Covariance Type:            nonrobust   LLR p-value:                       nan\n",
      "===============================================================================\n",
      "                  coef    std err          z      P>|z|      [0.025      0.975]\n",
      "-------------------------------------------------------------------------------\n",
      "GDP_penalty    -0.0508      0.065     -0.777      0.437      -0.179       0.077\n",
      "===============================================================================\n"
     ]
    },
    {
     "data": {
      "image/png": "[encoded data removed]",
      "text/plain": [
       "<Figure size 1080x1080 with 1 Axes>"
      ]
     },
     "metadata": {
      "needs_background": "light"
     },
     "output_type": "display_data"
    }
   ],
   "source": [
    "model_GDP_penalty = sm.Logit(Data['Test_misdemeanor'],np.log(Data['GDP_penalty']))\n",
    "result_GDP_penalty = model_GDP_penalty.fit()\n",
    "print(result_GDP_penalty.summary())\n",
    "\n",
    "plt.figure(figsize=(15,15))\n",
    "plt.scatter(np.log(Data['GDP_penalty']),Data['Test_misdemeanor'])\n",
    "\n",
    "xx = np.linspace(3,8.5, 100)\n",
    "df_wrole_p = pd.DataFrame({\"GDP_penalty\": xx})\n",
    "plt.plot(xx, result_GDP_penalty.predict(xx), \"r-\", lw=4, label=\"예측\",alpha=.5)\n",
    "plt.grid(True)\n",
    "plt.xlabel('GDP_penalty')\n",
    "plt.ylabel('Misdemeanor_Result')\n",
    "plt.show()"
   ]
  },
  {
   "cell_type": "markdown",
   "metadata": {},
   "source": [
    "# Temper"
   ]
  },
  {
   "cell_type": "code",
   "execution_count": 97,
   "metadata": {},
   "outputs": [
    {
     "name": "stdout",
     "output_type": "stream",
     "text": [
      "Optimization terminated successfully.\n",
      "         Current function value: 0.686606\n",
      "         Iterations 3\n",
      "                           Logit Regression Results                           \n",
      "==============================================================================\n",
      "Dep. Variable:       Test_misdemeanor   No. Observations:                   30\n",
      "Model:                          Logit   Df Residuals:                       29\n",
      "Method:                           MLE   Df Model:                            0\n",
      "Date:                Fri, 14 May 2021   Pseudo R-squ.:                -0.07483\n",
      "Time:                        12:17:18   Log-Likelihood:                -20.598\n",
      "converged:                       True   LL-Null:                       -19.164\n",
      "Covariance Type:            nonrobust   LLR p-value:                       nan\n",
      "==============================================================================\n",
      "                 coef    std err          z      P>|z|      [0.025      0.975]\n",
      "------------------------------------------------------------------------------\n",
      "Temper        -0.0159      0.032     -0.491      0.623      -0.079       0.047\n",
      "==============================================================================\n"
     ]
    },
    {
     "data": {
      "image/png": "[encoded data removed]",
      "text/plain": [
       "<Figure size 1080x1080 with 1 Axes>"
      ]
     },
     "metadata": {
      "needs_background": "light"
     },
     "output_type": "display_data"
    }
   ],
   "source": [
    "model_Temper = sm.Logit(Data['Test_misdemeanor'],Data['Temper'])\n",
    "result_Temper = model_Temper.fit()\n",
    "print(result_Temper.summary())\n",
    "\n",
    "plt.figure(figsize=(15,15))\n",
    "plt.scatter(Data['Temper'],Data['Test_misdemeanor'])\n",
    "\n",
    "xx = np.linspace(4.5,25, 100)\n",
    "df_wrole_p = pd.DataFrame({\"Temper\": xx})\n",
    "plt.plot(xx, result_Temper.predict(xx), \"r-\", lw=4, label=\"예측\",alpha=.5)\n",
    "plt.grid(True)\n",
    "plt.xlabel('Temper')\n",
    "plt.ylabel('Misdemeanor_Result')\n",
    "plt.show()"
   ]
  },
  {
   "cell_type": "markdown",
   "metadata": {},
   "source": [
    "# Education"
   ]
  },
  {
   "cell_type": "code",
   "execution_count": 101,
   "metadata": {},
   "outputs": [
    {
     "name": "stdout",
     "output_type": "stream",
     "text": [
      "Optimization terminated successfully.\n",
      "         Current function value: 0.625039\n",
      "         Iterations 3\n",
      "                           Logit Regression Results                           \n",
      "==============================================================================\n",
      "Dep. Variable:       Test_misdemeanor   No. Observations:                   30\n",
      "Model:                          Logit   Df Residuals:                       29\n",
      "Method:                           MLE   Df Model:                            0\n",
      "Date:                Fri, 14 May 2021   Pseudo R-squ.:                 0.02155\n",
      "Time:                        12:18:07   Log-Likelihood:                -18.751\n",
      "converged:                       True   LL-Null:                       -19.164\n",
      "Covariance Type:            nonrobust   LLR p-value:                       nan\n",
      "==============================================================================\n",
      "                 coef    std err          z      P>|z|      [0.025      0.975]\n",
      "------------------------------------------------------------------------------\n",
      "Education  -4.336e-05   2.76e-05     -1.569      0.117   -9.75e-05    1.08e-05\n",
      "==============================================================================\n"
     ]
    },
    {
     "data": {
      "image/png": "[encoded data removed]",
      "text/plain": [
       "<Figure size 1080x1080 with 1 Axes>"
      ]
     },
     "metadata": {
      "needs_background": "light"
     },
     "output_type": "display_data"
    }
   ],
   "source": [
    "model_Education = sm.Logit(Data['Test_misdemeanor'],Data['Education'])\n",
    "result_Education = model_Education.fit()\n",
    "print(result_Education.summary())\n",
    "\n",
    "plt.figure(figsize=(15,15))\n",
    "plt.scatter(Data['Education'],Data['Test_misdemeanor'])\n",
    "\n",
    "xx = np.linspace(7500,24000, 100)\n",
    "df_wrole_p = pd.DataFrame({\"Education\": xx})\n",
    "plt.plot(xx, result_Education.predict(xx), \"r-\", lw=4, label=\"예측\",alpha=.5)\n",
    "plt.grid(True)\n",
    "plt.xlabel('Education')\n",
    "plt.ylabel('Misdemeanor_Result')\n",
    "plt.show()"
   ]
  },
  {
   "cell_type": "markdown",
   "metadata": {},
   "source": [
    "# Happy"
   ]
  },
  {
   "cell_type": "code",
   "execution_count": 104,
   "metadata": {},
   "outputs": [
    {
     "name": "stdout",
     "output_type": "stream",
     "text": [
      "Optimization terminated successfully.\n",
      "         Current function value: 0.663033\n",
      "         Iterations 4\n",
      "                           Logit Regression Results                           \n",
      "==============================================================================\n",
      "Dep. Variable:       Test_misdemeanor   No. Observations:                   30\n",
      "Model:                          Logit   Df Residuals:                       29\n",
      "Method:                           MLE   Df Model:                            0\n",
      "Date:                Fri, 14 May 2021   Pseudo R-squ.:                -0.03793\n",
      "Time:                        12:20:53   Log-Likelihood:                -19.891\n",
      "converged:                       True   LL-Null:                       -19.164\n",
      "Covariance Type:            nonrobust   LLR p-value:                       nan\n",
      "==============================================================================\n",
      "                 coef    std err          z      P>|z|      [0.025      0.975]\n",
      "------------------------------------------------------------------------------\n",
      "Happy         -0.0072      0.007     -1.047      0.295      -0.021       0.006\n",
      "==============================================================================\n"
     ]
    },
    {
     "data": {
      "image/png": "[encoded data removed]",
      "text/plain": [
       "<Figure size 1080x1080 with 1 Axes>"
      ]
     },
     "metadata": {
      "needs_background": "light"
     },
     "output_type": "display_data"
    }
   ],
   "source": [
    "model_Happy = sm.Logit(Data['Test_misdemeanor'],Data['Happy'])\n",
    "result_Happy= model_Happy.fit()\n",
    "print(result_Happy.summary())\n",
    "\n",
    "plt.figure(figsize=(15,15))\n",
    "plt.scatter(Data['Happy'],Data['Test_misdemeanor'])\n",
    "\n",
    "xx = np.linspace(35,70, 1000)\n",
    "df_wrole_p = pd.DataFrame({\"Happy\": xx})\n",
    "plt.plot(xx, result_Happy.predict(xx), \"r-\", lw=4, label=\"예측\",alpha=.5)\n",
    "plt.grid(True)\n",
    "plt.xlabel('Happy')\n",
    "plt.ylabel('Misdemeanor_Result')\n",
    "plt.show()"
   ]
  },
  {
   "cell_type": "markdown",
   "metadata": {},
   "source": [
    "# PCPI"
   ]
  },
  {
   "cell_type": "code",
   "execution_count": 107,
   "metadata": {},
   "outputs": [
    {
     "name": "stdout",
     "output_type": "stream",
     "text": [
      "Optimization terminated successfully.\n",
      "         Current function value: 0.654791\n",
      "         Iterations 3\n",
      "                           Logit Regression Results                           \n",
      "==============================================================================\n",
      "Dep. Variable:       Test_misdemeanor   No. Observations:                   30\n",
      "Model:                          Logit   Df Residuals:                       29\n",
      "Method:                           MLE   Df Model:                            0\n",
      "Date:                Fri, 14 May 2021   Pseudo R-squ.:                -0.02502\n",
      "Time:                        12:21:50   Log-Likelihood:                -19.644\n",
      "converged:                       True   LL-Null:                       -19.164\n",
      "Covariance Type:            nonrobust   LLR p-value:                       nan\n",
      "==============================================================================\n",
      "                 coef    std err          z      P>|z|      [0.025      0.975]\n",
      "------------------------------------------------------------------------------\n",
      "PCPI       -7.825e-06   6.59e-06     -1.187      0.235   -2.08e-05     5.1e-06\n",
      "==============================================================================\n"
     ]
    },
    {
     "data": {
      "image/png": "[encoded data removed]",
      "text/plain": [
       "<Figure size 1080x1080 with 1 Axes>"
      ]
     },
     "metadata": {
      "needs_background": "light"
     },
     "output_type": "display_data"
    }
   ],
   "source": [
    "model_PCPI = sm.Logit(Data['Test_misdemeanor'],Data['PCPI'])\n",
    "result_PCPI = model_PCPI.fit()\n",
    "print(result_PCPI.summary())\n",
    "\n",
    "plt.figure(figsize=(15,15))\n",
    "plt.scatter(Data['PCPI'],Data['Test_misdemeanor'])\n",
    "\n",
    "xx = np.linspace(40000,80000, 1000)\n",
    "df_wrole_p = pd.DataFrame({\"PCPI\": xx})\n",
    "plt.plot(xx, result_PCPI.predict(xx), \"r-\", lw=4, label=\"예측\",alpha=.5)\n",
    "plt.grid(True)\n",
    "plt.xlabel('PCPI')\n",
    "plt.ylabel('Misdemeanor_Result')\n",
    "plt.show()"
   ]
  },
  {
   "cell_type": "markdown",
   "metadata": {},
   "source": [
    "# Police_area"
   ]
  },
  {
   "cell_type": "code",
   "execution_count": 109,
   "metadata": {},
   "outputs": [
    {
     "name": "stdout",
     "output_type": "stream",
     "text": [
      "Optimization terminated successfully.\n",
      "         Current function value: 0.685174\n",
      "         Iterations 4\n",
      "                           Logit Regression Results                           \n",
      "==============================================================================\n",
      "Dep. Variable:       Test_misdemeanor   No. Observations:                   30\n",
      "Model:                          Logit   Df Residuals:                       29\n",
      "Method:                           MLE   Df Model:                            0\n",
      "Date:                Fri, 14 May 2021   Pseudo R-squ.:                -0.07259\n",
      "Time:                        12:22:50   Log-Likelihood:                -20.555\n",
      "converged:                       True   LL-Null:                       -19.164\n",
      "Covariance Type:            nonrobust   LLR p-value:                       nan\n",
      "===============================================================================\n",
      "                  coef    std err          z      P>|z|      [0.025      0.975]\n",
      "-------------------------------------------------------------------------------\n",
      "Police_area     0.1648      0.304      0.542      0.588      -0.431       0.760\n",
      "===============================================================================\n"
     ]
    },
    {
     "data": {
      "image/png": "[encoded data removed]",
      "text/plain": [
       "<Figure size 1080x1080 with 1 Axes>"
      ]
     },
     "metadata": {
      "needs_background": "light"
     },
     "output_type": "display_data"
    }
   ],
   "source": [
    "model_Police_area = sm.Logit(Data['Test_misdemeanor'],Data['Police_area'])\n",
    "result_Police_area = model_Police_area.fit()\n",
    "print(result_Police_area.summary())\n",
    "\n",
    "plt.figure(figsize=(15,15))\n",
    "plt.scatter(Data['Police_area'],Data['Test_misdemeanor'])\n",
    "\n",
    "xx = np.linspace(0,5, 100)\n",
    "df_wrole_p = pd.DataFrame({\"Police_area\": xx})\n",
    "plt.plot(xx, result_Police_area.predict(xx), \"r-\", lw=4, label=\"예측\",alpha=.5)\n",
    "plt.grid(True)\n",
    "plt.xlabel('Police_area')\n",
    "plt.ylabel('Misdemeanor_Result')\n",
    "plt.show()"
   ]
  },
  {
   "cell_type": "markdown",
   "metadata": {},
   "source": [
    "# older_rate"
   ]
  },
  {
   "cell_type": "code",
   "execution_count": 112,
   "metadata": {},
   "outputs": [
    {
     "name": "stdout",
     "output_type": "stream",
     "text": [
      "Optimization terminated successfully.\n",
      "         Current function value: 0.649432\n",
      "         Iterations 4\n",
      "                           Logit Regression Results                           \n",
      "==============================================================================\n",
      "Dep. Variable:       Test_misdemeanor   No. Observations:                   30\n",
      "Model:                          Logit   Df Residuals:                       29\n",
      "Method:                           MLE   Df Model:                            0\n",
      "Date:                Fri, 14 May 2021   Pseudo R-squ.:                -0.01663\n",
      "Time:                        12:23:41   Log-Likelihood:                -19.483\n",
      "converged:                       True   LL-Null:                       -19.164\n",
      "Covariance Type:            nonrobust   LLR p-value:                       nan\n",
      "==============================================================================\n",
      "                 coef    std err          z      P>|z|      [0.025      0.975]\n",
      "------------------------------------------------------------------------------\n",
      "older_rate    -0.0277      0.022     -1.262      0.207      -0.071       0.015\n",
      "==============================================================================\n"
     ]
    },
    {
     "data": {
      "image/png": "[encoded data removed]",
      "text/plain": [
       "<Figure size 1080x1080 with 1 Axes>"
      ]
     },
     "metadata": {
      "needs_background": "light"
     },
     "output_type": "display_data"
    }
   ],
   "source": [
    "model_older_rate = sm.Logit(Data['Test_misdemeanor'],Data['older_rate'])\n",
    "result_older_rate = model_older_rate.fit()\n",
    "print(result_older_rate.summary())\n",
    "\n",
    "plt.figure(figsize=(15,15))\n",
    "plt.scatter(Data['older_rate'],Data['Test_misdemeanor'])\n",
    "\n",
    "xx = np.linspace(10,25, 100)\n",
    "df_wrole_p = pd.DataFrame({\"older_rate\": xx})\n",
    "plt.plot(xx, result_older_rate.predict(xx), \"r-\", lw=4, label=\"예측\",alpha=.5)\n",
    "plt.grid(True)\n",
    "plt.xlabel('older_rate')\n",
    "plt.ylabel('Misdemeanor_Result')\n",
    "plt.show()"
   ]
  },
  {
   "cell_type": "markdown",
   "metadata": {},
   "source": [
    "# MSA_Rate"
   ]
  },
  {
   "cell_type": "code",
   "execution_count": 115,
   "metadata": {},
   "outputs": [
    {
     "name": "stdout",
     "output_type": "stream",
     "text": [
      "Optimization terminated successfully.\n",
      "         Current function value: 0.671608\n",
      "         Iterations 4\n",
      "                           Logit Regression Results                           \n",
      "==============================================================================\n",
      "Dep. Variable:       Test_misdemeanor   No. Observations:                   30\n",
      "Model:                          Logit   Df Residuals:                       29\n",
      "Method:                           MLE   Df Model:                            0\n",
      "Date:                Fri, 14 May 2021   Pseudo R-squ.:                -0.05135\n",
      "Time:                        12:25:06   Log-Likelihood:                -20.148\n",
      "converged:                       True   LL-Null:                       -19.164\n",
      "Covariance Type:            nonrobust   LLR p-value:                       nan\n",
      "==============================================================================\n",
      "                 coef    std err          z      P>|z|      [0.025      0.975]\n",
      "------------------------------------------------------------------------------\n",
      "MSA_Rate      -0.0040      0.004     -0.893      0.372      -0.013       0.005\n",
      "==============================================================================\n"
     ]
    },
    {
     "data": {
      "image/png": "[encoded data removed]",
      "text/plain": [
       "<Figure size 1080x1080 with 1 Axes>"
      ]
     },
     "metadata": {
      "needs_background": "light"
     },
     "output_type": "display_data"
    }
   ],
   "source": [
    "model_MSA_Rate = sm.Logit(Data['Test_misdemeanor'],Data['MSA_Rate'])\n",
    "result_MSA_Rate = model_MSA_Rate.fit()\n",
    "print(result_MSA_Rate.summary())\n",
    "\n",
    "plt.figure(figsize=(15,15))\n",
    "plt.scatter(Data['MSA_Rate'],Data['Test_misdemeanor'])\n",
    "\n",
    "xx = np.linspace(30,110, 100)\n",
    "df_wrole_p = pd.DataFrame({\"MSA_Rate\": xx})\n",
    "plt.plot(xx, result_MSA_Rate.predict(xx), \"r-\", lw=4, label=\"예측\",alpha=.5)\n",
    "plt.grid(True)\n",
    "plt.xlabel('MSA_Rate')\n",
    "plt.ylabel('Misdemeanor_Result')\n",
    "plt.show()"
   ]
  },
  {
   "cell_type": "markdown",
   "metadata": {},
   "source": [
    "# Female_Rate"
   ]
  },
  {
   "cell_type": "code",
   "execution_count": 119,
   "metadata": {},
   "outputs": [
    {
     "name": "stdout",
     "output_type": "stream",
     "text": [
      "Optimization terminated successfully.\n",
      "         Current function value: 0.658488\n",
      "         Iterations 4\n",
      "                           Logit Regression Results                           \n",
      "==============================================================================\n",
      "Dep. Variable:       Test_misdemeanor   No. Observations:                   30\n",
      "Model:                          Logit   Df Residuals:                       29\n",
      "Method:                           MLE   Df Model:                            0\n",
      "Date:                Fri, 14 May 2021   Pseudo R-squ.:                -0.03081\n",
      "Time:                        12:26:26   Log-Likelihood:                -19.755\n",
      "converged:                       True   LL-Null:                       -19.164\n",
      "Covariance Type:            nonrobust   LLR p-value:                       nan\n",
      "===============================================================================\n",
      "                  coef    std err          z      P>|z|      [0.025      0.975]\n",
      "-------------------------------------------------------------------------------\n",
      "Female_Rate    -0.0083      0.007     -1.124      0.261      -0.023       0.006\n",
      "===============================================================================\n"
     ]
    },
    {
     "data": {
      "image/png": "[encoded data removed]",
      "text/plain": [
       "<Figure size 1080x1080 with 1 Axes>"
      ]
     },
     "metadata": {
      "needs_background": "light"
     },
     "output_type": "display_data"
    }
   ],
   "source": [
    "model_Female_Rate = sm.Logit(Data['Test_misdemeanor'],Data['Female_Rate'])\n",
    "result_Female_Rate = model_Female_Rate.fit()\n",
    "print(result_Female_Rate.summary())\n",
    "\n",
    "plt.figure(figsize=(15,15))\n",
    "plt.scatter(Data['Female_Rate'],Data['Test_misdemeanor'])\n",
    "\n",
    "xx = np.linspace(49,52, 100)\n",
    "df_wrole_p = pd.DataFrame({\"Female_Rate\": xx})\n",
    "plt.plot(xx, result_Female_Rate.predict(xx), \"r-\", lw=4, label=\"예측\",alpha=.5)\n",
    "plt.grid(True)\n",
    "plt.xlabel('Female_Rate')\n",
    "plt.ylabel('Misdemeanor_Result')\n",
    "plt.show()"
   ]
  },
  {
   "cell_type": "markdown",
   "metadata": {},
   "source": [
    "# Traveler_spending"
   ]
  },
  {
   "cell_type": "code",
   "execution_count": 121,
   "metadata": {},
   "outputs": [
    {
     "name": "stdout",
     "output_type": "stream",
     "text": [
      "Optimization terminated successfully.\n",
      "         Current function value: 0.691960\n",
      "         Iterations 2\n",
      "                           Logit Regression Results                           \n",
      "==============================================================================\n",
      "Dep. Variable:       Test_misdemeanor   No. Observations:                   30\n",
      "Model:                          Logit   Df Residuals:                       29\n",
      "Method:                           MLE   Df Model:                            0\n",
      "Date:                Fri, 14 May 2021   Pseudo R-squ.:                -0.08321\n",
      "Time:                        12:27:17   Log-Likelihood:                -20.759\n",
      "converged:                       True   LL-Null:                       -19.164\n",
      "Covariance Type:            nonrobust   LLR p-value:                       nan\n",
      "=====================================================================================\n",
      "                        coef    std err          z      P>|z|      [0.025      0.975]\n",
      "-------------------------------------------------------------------------------------\n",
      "Traveler_spending  1.751e-06   8.43e-06      0.208      0.835   -1.48e-05    1.83e-05\n",
      "=====================================================================================\n"
     ]
    },
    {
     "data": {
      "image/png": "[encoded data removed]",
      "text/plain": [
       "<Figure size 1080x1080 with 1 Axes>"
      ]
     },
     "metadata": {
      "needs_background": "light"
     },
     "output_type": "display_data"
    }
   ],
   "source": [
    "model_Traveler_spending = sm.Logit(Data['Test_misdemeanor'],Data['Traveler_spending'])\n",
    "result_Traveler_spending = model_Traveler_spending.fit()\n",
    "print(result_Traveler_spending.summary())\n",
    "\n",
    "plt.figure(figsize=(15,15))\n",
    "plt.scatter(Data['Traveler_spending'],Data['Test_misdemeanor'])\n",
    "\n",
    "xx = np.linspace(0,145000, 100)\n",
    "df_wrole_p = pd.DataFrame({\"Traveler_spending\": xx})\n",
    "plt.plot(xx, result_Traveler_spending.predict(xx), \"r-\", lw=4, label=\"예측\",alpha=.5)\n",
    "plt.grid(True)\n",
    "plt.xlabel('Traveler_spending')\n",
    "plt.ylabel('Misdemeanor_Result')\n",
    "plt.show()"
   ]
  },
  {
   "cell_type": "code",
   "execution_count": 74,
   "metadata": {},
   "outputs": [
    {
     "name": "stdout",
     "output_type": "stream",
     "text": [
      "Optimization terminated successfully.\n",
      "         Current function value: 0.444834\n",
      "         Iterations 6\n",
      "                           Logit Regression Results                           \n",
      "==============================================================================\n",
      "Dep. Variable:       Test_misdemeanor   No. Observations:                   30\n",
      "Model:                          Logit   Df Residuals:                       19\n",
      "Method:                           MLE   Df Model:                           10\n",
      "Date:                Fri, 14 May 2021   Pseudo R-squ.:                  0.3036\n",
      "Time:                        11:38:27   Log-Likelihood:                -13.345\n",
      "converged:                       True   LL-Null:                       -19.164\n",
      "Covariance Type:            nonrobust   LLR p-value:                    0.3100\n",
      "=====================================================================================\n",
      "                        coef    std err          z      P>|z|      [0.025      0.975]\n",
      "-------------------------------------------------------------------------------------\n",
      "GDP_penalty           0.0012      0.002      0.738      0.461      -0.002       0.005\n",
      "Temper                0.1269      0.196      0.648      0.517      -0.257       0.510\n",
      "GDP                  2.6e-08   3.24e-06      0.008      0.994   -6.33e-06    6.39e-06\n",
      "Education            -0.0003      0.000     -0.891      0.373      -0.001       0.000\n",
      "Happy                 0.0146      0.096      0.152      0.879      -0.174       0.203\n",
      "PCPI                  0.0001      0.000      0.830      0.407      -0.000       0.000\n",
      "Police_area           0.8135      1.283      0.634      0.526      -1.702       3.329\n",
      "older_rate            0.0828      0.408      0.203      0.839      -0.718       0.883\n",
      "MSA_Rate              0.0142      0.053      0.269      0.788      -0.089       0.117\n",
      "Female_Rate          -0.1580      0.226     -0.698      0.485      -0.602       0.286\n",
      "Traveler_spending -3.089e-05   5.46e-05     -0.566      0.572      -0.000    7.61e-05\n",
      "=====================================================================================\n"
     ]
    }
   ],
   "source": [
    "# 모든 feature를 한꺼번에 logit\n",
    "\n",
    "test_Data=Data[['Test_misdemeanor','GDP_penalty','Temper','GDP','Education','Happy','PCPI','Police_area','older_rate','MSA_Rate','Female_Rate','Traveler_spending']]\n",
    "x_data=test_Data.columns[1:]\n",
    "logit = sm.Logit(test_Data['Test_misdemeanor'], test_Data[x_data])\n",
    "result = logit.fit() \n",
    "print( result.summary())"
   ]
  },
  {
   "cell_type": "code",
   "execution_count": 129,
   "metadata": {},
   "outputs": [
    {
     "name": "stdout",
     "output_type": "stream",
     "text": [
      "Optimization terminated successfully.\n",
      "         Current function value: 0.505422\n",
      "         Iterations 5\n",
      "                           Logit Regression Results                           \n",
      "==============================================================================\n",
      "Dep. Variable:       Test_misdemeanor   No. Observations:                   30\n",
      "Model:                          Logit   Df Residuals:                       28\n",
      "Method:                           MLE   Df Model:                            1\n",
      "Date:                Fri, 14 May 2021   Pseudo R-squ.:                  0.2088\n",
      "Time:                        12:31:57   Log-Likelihood:                -15.163\n",
      "converged:                       True   LL-Null:                       -19.164\n",
      "Covariance Type:            nonrobust   LLR p-value:                  0.004670\n",
      "==============================================================================\n",
      "                 coef    std err          z      P>|z|      [0.025      0.975]\n",
      "------------------------------------------------------------------------------\n",
      "Education     -0.0004      0.000     -2.066      0.039      -0.001   -2.06e-05\n",
      "PCPI        8.628e-05   4.49e-05      1.920      0.055   -1.82e-06       0.000\n",
      "==============================================================================\n"
     ]
    }
   ],
   "source": [
    "test_Data=Data[['Test_misdemeanor','Education','PCPI']]\n",
    "x_data=test_Data.columns[1:]\n",
    "logit = sm.Logit(test_Data['Test_misdemeanor'], test_Data[x_data])\n",
    "result = logit.fit() \n",
    "print( result.summary())"
   ]
  },
  {
   "cell_type": "code",
   "execution_count": 130,
   "metadata": {},
   "outputs": [
    {
     "name": "stdout",
     "output_type": "stream",
     "text": [
      "Optimization terminated successfully.\n",
      "         Current function value: 0.524391\n",
      "         Iterations 6\n",
      "                           Logit Regression Results                           \n",
      "==============================================================================\n",
      "Dep. Variable:       Test_misdemeanor   No. Observations:                   30\n",
      "Model:                          Logit   Df Residuals:                       28\n",
      "Method:                           MLE   Df Model:                            1\n",
      "Date:                Fri, 14 May 2021   Pseudo R-squ.:                  0.1791\n",
      "Time:                        12:32:45   Log-Likelihood:                -15.732\n",
      "converged:                       True   LL-Null:                       -19.164\n",
      "Covariance Type:            nonrobust   LLR p-value:                  0.008791\n",
      "===============================================================================\n",
      "                  coef    std err          z      P>|z|      [0.025      0.975]\n",
      "-------------------------------------------------------------------------------\n",
      "Female_Rate    -0.0324      0.015     -2.116      0.034      -0.063      -0.002\n",
      "Police_area     1.3632      0.756      1.804      0.071      -0.118       2.844\n",
      "===============================================================================\n"
     ]
    }
   ],
   "source": [
    "test_Data=Data[['Test_misdemeanor','Female_Rate','Police_area']]\n",
    "x_data=test_Data.columns[1:]\n",
    "logit = sm.Logit(test_Data['Test_misdemeanor'], test_Data[x_data])\n",
    "result = logit.fit() \n",
    "print( result.summary())"
   ]
  },
  {
   "cell_type": "code",
   "execution_count": 132,
   "metadata": {},
   "outputs": [
    {
     "name": "stdout",
     "output_type": "stream",
     "text": [
      "Optimization terminated successfully.\n",
      "         Current function value: 0.623443\n",
      "         Iterations 4\n",
      "                           Logit Regression Results                           \n",
      "==============================================================================\n",
      "Dep. Variable:       Test_misdemeanor   No. Observations:                   30\n",
      "Model:                          Logit   Df Residuals:                       28\n",
      "Method:                           MLE   Df Model:                            1\n",
      "Date:                Fri, 14 May 2021   Pseudo R-squ.:                 0.02405\n",
      "Time:                        12:33:32   Log-Likelihood:                -18.703\n",
      "converged:                       True   LL-Null:                       -19.164\n",
      "Covariance Type:            nonrobust   LLR p-value:                    0.3370\n",
      "==============================================================================\n",
      "                 coef    std err          z      P>|z|      [0.025      0.975]\n",
      "------------------------------------------------------------------------------\n",
      "Temper         0.0978      0.084      1.161      0.246      -0.067       0.263\n",
      "Happy         -0.0262      0.018     -1.462      0.144      -0.061       0.009\n",
      "==============================================================================\n"
     ]
    }
   ],
   "source": [
    "test_Data=Data[['Test_misdemeanor','Temper','Happy']]\n",
    "x_data=test_Data.columns[1:]\n",
    "logit = sm.Logit(test_Data['Test_misdemeanor'], test_Data[x_data])\n",
    "result = logit.fit() \n",
    "print( result.summary())"
   ]
  }
 ],
 "metadata": {
  "kernelspec": {
   "display_name": "Python 3",
   "language": "python",
   "name": "python3"
  },
  "language_info": {
   "codemirror_mode": {
    "name": "ipython",
    "version": 3
   },
   "file_extension": ".py",
   "mimetype": "text/x-python",
   "name": "python",
   "nbconvert_exporter": "python",
   "pygments_lexer": "ipython3",
   "version": "3.8.8"
  }
 },
 "nbformat": 4,
 "nbformat_minor": 4
}
